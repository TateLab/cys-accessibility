{
 "cells": [
  {
   "cell_type": "markdown",
   "metadata": {},
   "source": [
    "# Predicting accessibility from AlphaFold structures - human proteome"
   ]
  },
  {
   "cell_type": "markdown",
   "metadata": {},
   "source": [
    "### Scripts are adapted from example scripts in the StructureMap GitHub: https://github.com/MannLabs/structuremap/tree/main/nbs\n",
    "### In accordance with the original Apache license, we have adapted the original script to run through a list of UniProt accessions from the human proteome FASTA"
   ]
  },
  {
   "cell_type": "markdown",
   "metadata": {},
   "source": [
    "## Import libraries"
   ]
  },
  {
   "cell_type": "code",
   "execution_count": null,
   "metadata": {},
   "outputs": [],
   "source": [
    "# Import structuremap functions\n",
    "import structuremap.utils\n",
    "structuremap.utils.set_logger()\n",
    "from structuremap.processing import download_alphafold_cif, download_alphafold_pae, format_alphafold_data, annotate_accessibility, get_smooth_score, annotate_proteins_with_idr_pattern, get_extended_flexible_pattern, get_proximity_pvals, perform_enrichment_analysis, perform_enrichment_analysis_per_protein, evaluate_ptm_colocalization, extract_motifs_in_proteome\n",
    "from structuremap.plotting import plot_enrichment, plot_ptm_colocalization\n"
   ]
  },
  {
   "cell_type": "code",
   "execution_count": null,
   "metadata": {},
   "outputs": [],
   "source": [
    "# Import \n",
    "import pandas as pd\n",
    "import numpy as np\n",
    "import os\n",
    "import re\n",
    "import plotly.express as px\n",
    "import tqdm\n",
    "import tempfile\n",
    "import csv"
   ]
  },
  {
   "cell_type": "markdown",
   "metadata": {},
   "source": [
    "## Set input/output directories"
   ]
  },
  {
   "cell_type": "code",
   "execution_count": null,
   "metadata": {},
   "outputs": [],
   "source": [
    "# File output\n",
    "output_dir = \"/Users/mew21/Documents/GitHub/structuremap/analyses/hsapiens/\"\n",
    "\n",
    "# Uniprot accession input list\n",
    "input_list = \"/Users/mew21/Downloads/hsapiens_headers.txt\"\n"
   ]
  },
  {
   "cell_type": "markdown",
   "metadata": {},
   "source": [
    "## Import human proteome headers for AlphaFold download"
   ]
  },
  {
   "cell_type": "code",
   "execution_count": null,
   "metadata": {},
   "outputs": [],
   "source": [
    "## Try with different approach and str.split into a list\n",
    "txt_file = open(input_list, \"r\")\n",
    "file_content = txt_file.read()\n",
    "#print(\"The file content are: \", file_content)\n",
    "\n",
    "human_fasta_list = file_content.split(\"\\t\")"
   ]
  },
  {
   "cell_type": "code",
   "execution_count": null,
   "metadata": {},
   "outputs": [],
   "source": [
    "len(human_fasta_list)"
   ]
  },
  {
   "cell_type": "code",
   "execution_count": null,
   "metadata": {},
   "outputs": [],
   "source": [
    "human_fasta_list[-1]"
   ]
  },
  {
   "cell_type": "markdown",
   "metadata": {},
   "source": [
    "## Download AlphaFold data"
   ]
  },
  {
   "cell_type": "code",
   "execution_count": null,
   "metadata": {},
   "outputs": [],
   "source": [
    "cif_dir = os.path.join(output_dir, 'cif')\n",
    "pae_dir = os.path.join(output_dir, 'pae')"
   ]
  },
  {
   "cell_type": "code",
   "execution_count": null,
   "metadata": {},
   "outputs": [],
   "source": [
    "print(cif_dir)"
   ]
  },
  {
   "cell_type": "code",
   "execution_count": null,
   "metadata": {
    "scrolled": false
   },
   "outputs": [],
   "source": [
    "valid_proteins_cif, invalid_proteins_cif, existing_proteins_cif = download_alphafold_cif(\n",
    "    proteins=human_fasta_list,\n",
    "    out_folder=cif_dir)"
   ]
  },
  {
   "cell_type": "code",
   "execution_count": null,
   "metadata": {
    "scrolled": true
   },
   "outputs": [],
   "source": [
    "valid_proteins_pae, invalid_proteins_pae, existing_proteins_pae = download_alphafold_pae(\n",
    "    proteins=human_fasta_list,\n",
    "    out_folder=pae_dir, \n",
    "    )"
   ]
  },
  {
   "cell_type": "markdown",
   "metadata": {},
   "source": [
    "## Format AlphaFold data input"
   ]
  },
  {
   "cell_type": "code",
   "execution_count": null,
   "metadata": {},
   "outputs": [],
   "source": [
    "alphafold_annotation = format_alphafold_data(\n",
    "    directory=cif_dir, \n",
    "    protein_ids=human_fasta_list)"
   ]
  },
  {
   "cell_type": "code",
   "execution_count": null,
   "metadata": {},
   "outputs": [],
   "source": [
    "#alphafold_annotation[0:3]"
   ]
  },
  {
   "cell_type": "markdown",
   "metadata": {},
   "source": [
    "## Annotate pPSE values"
   ]
  },
  {
   "cell_type": "code",
   "execution_count": null,
   "metadata": {},
   "outputs": [],
   "source": [
    "full_sphere_exposure = annotate_accessibility(\n",
    "    df=alphafold_annotation, \n",
    "    max_dist=24, \n",
    "    max_angle=180, \n",
    "    error_dir=pae_dir)"
   ]
  },
  {
   "cell_type": "code",
   "execution_count": null,
   "metadata": {},
   "outputs": [],
   "source": [
    "alphafold_accessibility = alphafold_annotation.merge(\n",
    "    full_sphere_exposure, how='left', on=['protein_id','AA','position'])"
   ]
  },
  {
   "cell_type": "code",
   "execution_count": null,
   "metadata": {},
   "outputs": [],
   "source": [
    "part_sphere_exposure = annotate_accessibility(\n",
    "    df=alphafold_annotation, \n",
    "    max_dist=12, \n",
    "    max_angle=70, \n",
    "    error_dir=pae_dir)"
   ]
  },
  {
   "cell_type": "code",
   "execution_count": null,
   "metadata": {},
   "outputs": [],
   "source": [
    "alphafold_accessibility = alphafold_accessibility.merge(\n",
    "    part_sphere_exposure, how='left', on=['protein_id','AA','position'])"
   ]
  },
  {
   "cell_type": "code",
   "execution_count": null,
   "metadata": {},
   "outputs": [],
   "source": [
    "alphafold_accessibility['high_acc_5'] = np.where(alphafold_accessibility.nAA_12_70_pae <= 5, 1, 0)\n",
    "alphafold_accessibility['low_acc_5'] = np.where(alphafold_accessibility.nAA_12_70_pae > 5, 1, 0)"
   ]
  },
  {
   "cell_type": "markdown",
   "metadata": {},
   "source": [
    "## Annotate IDRs"
   ]
  },
  {
   "cell_type": "code",
   "execution_count": null,
   "metadata": {},
   "outputs": [],
   "source": [
    "alphafold_accessibility_smooth = get_smooth_score(\n",
    "    alphafold_accessibility, \n",
    "    np.array(['nAA_24_180_pae']), \n",
    "    [10])"
   ]
  },
  {
   "cell_type": "code",
   "execution_count": null,
   "metadata": {},
   "outputs": [],
   "source": [
    "alphafold_accessibility_smooth['IDR'] = np.where(\n",
    "    alphafold_accessibility_smooth['nAA_24_180_pae_smooth10']<=34.27, 1, 0)"
   ]
  },
  {
   "cell_type": "markdown",
   "metadata": {},
   "source": [
    "## Annotate short IDRs"
   ]
  },
  {
   "cell_type": "code",
   "execution_count": null,
   "metadata": {},
   "outputs": [],
   "source": [
    "alphafold_accessibility_smooth_pattern = annotate_proteins_with_idr_pattern(\n",
    "    alphafold_accessibility_smooth,\n",
    "    min_structured_length = 80, \n",
    "    max_unstructured_length = 20)"
   ]
  },
  {
   "cell_type": "code",
   "execution_count": null,
   "metadata": {},
   "outputs": [],
   "source": [
    "alphafold_accessibility_smooth_pattern_ext = get_extended_flexible_pattern(\n",
    "    alphafold_accessibility_smooth_pattern, \n",
    "    ['flexible_pattern'], [5])"
   ]
  },
  {
   "cell_type": "code",
   "execution_count": null,
   "metadata": {},
   "outputs": [],
   "source": [
    "alphafold_accessibility_smooth_pattern_ext[0:3]"
   ]
  },
  {
   "cell_type": "code",
   "execution_count": null,
   "metadata": {},
   "outputs": [],
   "source": [
    "alphafold_accessibility_smooth_pattern_ext.columns\n"
   ]
  },
  {
   "cell_type": "code",
   "execution_count": null,
   "metadata": {},
   "outputs": [],
   "source": [
    "alphafold_accessibility.to_csv('AlphaFoldPredicted_Accessibility_hsapiens.csv')"
   ]
  },
  {
   "cell_type": "code",
   "execution_count": null,
   "metadata": {},
   "outputs": [],
   "source": []
  }
 ],
 "metadata": {
  "kernelspec": {
   "display_name": "Python 3 (ipykernel)",
   "language": "python",
   "name": "python3"
  },
  "language_info": {
   "codemirror_mode": {
    "name": "ipython",
    "version": 3
   },
   "file_extension": ".py",
   "mimetype": "text/x-python",
   "name": "python",
   "nbconvert_exporter": "python",
   "pygments_lexer": "ipython3",
   "version": "3.9.7"
  }
 },
 "nbformat": 4,
 "nbformat_minor": 2
}
